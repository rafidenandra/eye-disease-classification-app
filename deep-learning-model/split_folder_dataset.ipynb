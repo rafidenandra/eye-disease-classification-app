{
 "cells": [
  {
   "cell_type": "code",
   "execution_count": 10,
   "metadata": {},
   "outputs": [],
   "source": [
    "# Splitting any dataset directory into train, validation, and test\n",
    "\n",
    "import splitfolders\n",
    "\n",
    "input_folder = 'D:\\\\Kuliah\\\\Proyek Akhir 2022\\\\Dataset'\n",
    "\n",
    "splitfolders.ratio(\n",
    "  input_folder,\n",
    "  output='D:\\\\Kuliah\\\\Proyek Akhir 2022\\\\Dataset (Splitted)',\n",
    "  seed=42,\n",
    "  ratio=(0.95, 0.025, 0.025),\n",
    "  group_prefix=None\n",
    ")"
   ]
  }
 ],
 "metadata": {
  "kernelspec": {
   "display_name": "Python 3.9.13 ('tf')",
   "language": "python",
   "name": "python3"
  },
  "language_info": {
   "codemirror_mode": {
    "name": "ipython",
    "version": 3
   },
   "file_extension": ".py",
   "mimetype": "text/x-python",
   "name": "python",
   "nbconvert_exporter": "python",
   "pygments_lexer": "ipython3",
   "version": "3.9.16"
  },
  "orig_nbformat": 4,
  "vscode": {
   "interpreter": {
    "hash": "da3e069db81a202c167f3aebc7c29e21ed8ab3aa5a4329f8f1c04ca8697e7280"
   }
  }
 },
 "nbformat": 4,
 "nbformat_minor": 2
}
